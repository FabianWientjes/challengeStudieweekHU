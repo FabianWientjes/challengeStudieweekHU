{
 "cells": [
  {
   "cell_type": "markdown",
   "metadata": {},
   "source": [
    "Open de jsonl file as a dataframe"
   ]
  },
  {
   "cell_type": "code",
   "execution_count": 20,
   "metadata": {},
   "outputs": [
    {
     "name": "stderr",
     "output_type": "stream",
     "text": [
      "\u001b[32m2024-08-26 15:44:37.572\u001b[0m | \u001b[1mINFO    \u001b[0m | \u001b[36m__main__\u001b[0m:\u001b[36m<module>\u001b[0m:\u001b[36m25\u001b[0m - \u001b[1mC:\\Users\\Marjolein\\iCloudDrive\\Master HU\\studiereis\\challengeStudieweekHU\\data\\raw\\finance_info.jsonl: exists: True\u001b[0m\n"
     ]
    },
    {
     "ename": "TypeError",
     "evalue": "read_json() got an unexpected keyword argument 'on_bad_lines'",
     "output_type": "error",
     "traceback": [
      "\u001b[1;31m---------------------------------------------------------------------------\u001b[0m",
      "\u001b[1;31mTypeError\u001b[0m                                 Traceback (most recent call last)",
      "Cell \u001b[1;32mIn[20], line 38\u001b[0m\n\u001b[0;32m     28\u001b[0m all_chunks \u001b[38;5;241m=\u001b[39m []  \u001b[38;5;66;03m# Lijst om alle chunks op te slaan\u001b[39;00m\n\u001b[0;32m     30\u001b[0m \u001b[38;5;66;03m# # Lees het CSV-bestand in stukken\u001b[39;00m\n\u001b[0;32m     31\u001b[0m \u001b[38;5;66;03m# for chunk in pd.read_csv(datafile, chunksize=chunk_size, on_bad_lines='skip'):\u001b[39;00m\n\u001b[0;32m     32\u001b[0m \u001b[38;5;66;03m#     # Verwerk elk chunk, bijvoorbeeld door het toe te voegen aan een lijst\u001b[39;00m\n\u001b[1;32m   (...)\u001b[0m\n\u001b[0;32m     35\u001b[0m \u001b[38;5;66;03m# Combineer alle chunks in één DataFrame\u001b[39;00m\n\u001b[0;32m     36\u001b[0m \u001b[38;5;66;03m#combined_df = pd.concat(all_chunks, ignore_index=True)\u001b[39;00m\n\u001b[1;32m---> 38\u001b[0m \u001b[43mpd\u001b[49m\u001b[38;5;241;43m.\u001b[39;49m\u001b[43mread_json\u001b[49m\u001b[43m(\u001b[49m\u001b[43mdatafile\u001b[49m\u001b[43m,\u001b[49m\u001b[43m \u001b[49m\u001b[43mon_bad_lines\u001b[49m\u001b[38;5;241;43m=\u001b[39;49m\u001b[38;5;124;43m'\u001b[39;49m\u001b[38;5;124;43mskip\u001b[39;49m\u001b[38;5;124;43m'\u001b[39;49m\u001b[43m)\u001b[49m\n\u001b[0;32m     40\u001b[0m \u001b[38;5;66;03m# Open het JSON-bestand en sla de eerste regel over\u001b[39;00m\n\u001b[0;32m     41\u001b[0m \u001b[38;5;66;03m# with open(datafile, 'r') as f:\u001b[39;00m\n\u001b[0;32m     42\u001b[0m \u001b[38;5;66;03m#     # Sla de eerste regel over\u001b[39;00m\n\u001b[1;32m   (...)\u001b[0m\n\u001b[0;32m     57\u001b[0m \u001b[38;5;66;03m# except Exception as e:\u001b[39;00m\n\u001b[0;32m     58\u001b[0m \u001b[38;5;66;03m#     logger.info(f\"exception: {e}\")\u001b[39;00m\n",
      "\u001b[1;31mTypeError\u001b[0m: read_json() got an unexpected keyword argument 'on_bad_lines'"
     ]
    }
   ],
   "source": [
    "from pathlib import Path\n",
    "import pandas as pd\n",
    "from loguru import logger\n",
    "\n",
    "# def get_dataframe_from_file(filename: str) -> pd.DataFrame:\n",
    "#     logger.info(\"*** in get_dataframe_from_file\")\n",
    "#     thisfile = Path(filename)\n",
    "#     logger.info(f\"this file:{thisfile}\")\n",
    "\n",
    "#     datafile = (thisfile / f\"../../data/raw/{filename}\").resolve()\n",
    "#     logger.info(f\"{datafile}: exists: {datafile.exists()}\")\n",
    "\n",
    "#     return pd.read_json(datafile)\n",
    "\n",
    "\n",
    "# df= get_dataframe_from_file(\"finance_info.jsonl\")\n",
    "\n",
    "\n",
    "# JSON-bestand in chunks lezen\n",
    "chunk_size = 100  # Aantal rijen per chunk\n",
    "json_file = \"../data/raw/finance_info.jsonl\"\n",
    "parquet_file = \"../data/raw/finance_info.parquet\"\n",
    "\n",
    "datafile = (Path(json_file)).resolve()\n",
    "logger.info(f\"{datafile}: exists: {datafile.exists()}\")\n",
    "\n",
    "chunk_size = 100  # Aantal regels per chunk\n",
    "all_chunks = []  # Lijst om alle chunks op te slaan\n",
    "\n",
    "# # Lees het CSV-bestand in stukken\n",
    "# for chunk in pd.read_csv(datafile, chunksize=chunk_size, on_bad_lines='skip'):\n",
    "#     # Verwerk elk chunk, bijvoorbeeld door het toe te voegen aan een lijst\n",
    "#     all_chunks.append(chunk)\n",
    "\n",
    "# Combineer alle chunks in één DataFrame\n",
    "#combined_df = pd.concat(all_chunks, ignore_index=True)\n",
    "    \n",
    "pd.read_json(datafile)\n",
    "\n",
    "# Open het JSON-bestand en sla de eerste regel over\n",
    "# with open(datafile, 'r') as f:\n",
    "#     # Sla de eerste regel over\n",
    "#     next(f)\n",
    "#     next(f)\n",
    "    # Lees de rest van het bestand in\n",
    "    # \n",
    "# try:    \n",
    "    \n",
    "#     for i, chunk in enumerate(pd.read_json(datafile, lines=True, chunksize=chunk_size)):\n",
    "#         logger.info(f\"chunk: {i}\")\n",
    "#         # Append elk chunk naar het Parquet-bestand\n",
    "#         if i == 0:\n",
    "#             #chunk.to_parquet(parquet_file, engine='pyarrow', index=False)\n",
    "#             chunk.\n",
    "#         else:\n",
    "#             chunk.to_parquet(parquet_file, engine='pyarrow', index=False, append=True)\n",
    "# except Exception as e:\n",
    "#     logger.info(f\"exception: {e}\")\n"
   ]
  },
  {
   "cell_type": "markdown",
   "metadata": {},
   "source": [
    "Write the code to parquet, for faster reading"
   ]
  },
  {
   "cell_type": "code",
   "execution_count": null,
   "metadata": {},
   "outputs": [],
   "source": []
  }
 ],
 "metadata": {
  "kernelspec": {
   "display_name": "Python 3",
   "language": "python",
   "name": "python3"
  },
  "language_info": {
   "codemirror_mode": {
    "name": "ipython",
    "version": 3
   },
   "file_extension": ".py",
   "mimetype": "text/x-python",
   "name": "python",
   "nbconvert_exporter": "python",
   "pygments_lexer": "ipython3",
   "version": "3.12.0"
  }
 },
 "nbformat": 4,
 "nbformat_minor": 2
}
