{
 "cells": [
  {
   "cell_type": "code",
   "execution_count": 6,
   "metadata": {},
   "outputs": [],
   "source": [
    "import pandas as pd"
   ]
  },
  {
   "cell_type": "code",
   "execution_count": 7,
   "metadata": {},
   "outputs": [
    {
     "name": "stdout",
     "output_type": "stream",
     "text": [
      "     0       1           2             3            4              5     6   \\\n",
      "0  uuid  status  start_year  addr_country  addr_region  addr_province  lang   \n",
      "\n",
      "             7      8      9      10     11       12            13  \\\n",
      "0  company_type  nace1  nace2  nace3  nace4  capital  capital_curr   \n",
      "\n",
      "                   14             15                   16            17  \n",
      "0  gen_assembly_month  end_fisc_year  covid_compensations  covid_primes  \n"
     ]
    }
   ],
   "source": [
    "dataset = pd.read_json('../data/raw/company_info.jsonl', lines=True)\n",
    "print (dataset.head(1))"
   ]
  },
  {
   "cell_type": "code",
   "execution_count": 8,
   "metadata": {},
   "outputs": [
    {
     "name": "stdout",
     "output_type": "stream",
     "text": [
      "DataFrame met nieuwe kolomnamen:\n",
      "0                                  uuid  status start_year addr_country  \\\n",
      "0  236b14ea-7b38-4c25-b46d-50257f449012  active       2011           be   \n",
      "1  eb040b52-7f2b-462e-813b-becedb93964c  active       2011           be   \n",
      "2  b266db0d-e86c-4664-af8a-99f56dfa3506  active       2011           be   \n",
      "3  9ceb2787-7cf3-41d6-b073-c85a5571210d  active       2001           be   \n",
      "4  d580d6fc-1b0a-475d-841d-8170282bfb24  active       2003           be   \n",
      "\n",
      "0 addr_region    addr_province lang company_type  nace1  nace2  nace3  nace4  \\\n",
      "0    Brussels         Brussels   fr           15  56102  56102   None   None   \n",
      "1    Wallonie  Walloon Brabant   fr           15  86220   None   None   None   \n",
      "2    Flanders  Flemish Brabant   fr           15  62090   None   None   None   \n",
      "3    Brussels         Brussels   nl           14  70220  85532  70220  74142   \n",
      "4    Flanders    West Flanders   nl           15  47591  47410  47591  52487   \n",
      "\n",
      "0 capital capital_curr gen_assembly_month end_fisc_year covid_compensations  \\\n",
      "0   18600          EUR                  6         12-31                   0   \n",
      "1   18600          EUR                  6         12-31                   0   \n",
      "2   18600          EUR                  6         12-31                   0   \n",
      "3   62000          EUR                  5         12-31                   0   \n",
      "4   18600          EUR                  6         12-31                   0   \n",
      "\n",
      "0 covid_primes  \n",
      "0            0  \n",
      "1            0  \n",
      "2            0  \n",
      "3            0  \n",
      "4         8800  \n"
     ]
    }
   ],
   "source": [
    "# Stel de eerste rij in als kolomnamen\n",
    "dataset.columns = dataset.iloc[0]\n",
    "\n",
    "# Verwijder de eerste rij (die nu als kolomnamen is ingesteld)\n",
    "dataset = dataset[1:]\n",
    "\n",
    "# Herstel de index van de DataFrame\n",
    "dataset = dataset.reset_index(drop=True)\n",
    "\n",
    "# Bekijk de eerste paar rijen van de DataFrame na bewerking\n",
    "print(\"DataFrame met nieuwe kolomnamen:\")\n",
    "print(dataset.head(5))"
   ]
  },
  {
   "cell_type": "code",
   "execution_count": 24,
   "metadata": {},
   "outputs": [
    {
     "name": "stdout",
     "output_type": "stream",
     "text": [
      "totaal aantal rijen:  9469206\n",
      "aantal kolommen:  18\n",
      "de verschillende kolommen:  Index(['uuid', 'status', 'start_year', 'addr_country', 'addr_region',\n",
      "       'addr_province', 'lang', 'company_type', 'nace1', 'nace2', 'nace3',\n",
      "       'nace4', 'capital', 'capital_curr', 'gen_assembly_month',\n",
      "       'end_fisc_year', 'covid_compensations', 'covid_primes'],\n",
      "      dtype='object', name=0)\n"
     ]
    }
   ],
   "source": [
    "total_size = dataset.size\n",
    "amount_of_columns = dataset.shape[1]\n",
    "\n",
    "print (\"totaal aantal rijen: \", total_size)\n",
    "print (\"aantal kolommen: \", amount_of_columns)\n",
    "print (\"de verschillende kolommen: \", dataset.columns)\n"
   ]
  },
  {
   "cell_type": "markdown",
   "metadata": {},
   "source": [
    "Aantal lege velden"
   ]
  },
  {
   "cell_type": "code",
   "execution_count": 25,
   "metadata": {},
   "outputs": [
    {
     "name": "stdout",
     "output_type": "stream",
     "text": [
      "Aantal lege velden 0\n",
      "uuid                        0\n",
      "status                      0\n",
      "start_year                  0\n",
      "addr_country                0\n",
      "addr_region                 0\n",
      "addr_province               0\n",
      "lang                        0\n",
      "company_type                0\n",
      "nace1                    7328\n",
      "nace2                  110291\n",
      "nace3                  208215\n",
      "nace4                  288421\n",
      "capital                     0\n",
      "capital_curr                0\n",
      "gen_assembly_month       4161\n",
      "end_fisc_year               0\n",
      "covid_compensations         0\n",
      "covid_primes                0\n",
      "dtype: int64\n"
     ]
    }
   ],
   "source": [
    "empyt_values = dataset.isnull().sum()\n",
    "print (\"Aantal lege velden\", empyt_values)"
   ]
  },
  {
   "cell_type": "markdown",
   "metadata": {},
   "source": [
    "Land"
   ]
  },
  {
   "cell_type": "code",
   "execution_count": 10,
   "metadata": {},
   "outputs": [
    {
     "name": "stdout",
     "output_type": "stream",
     "text": [
      "['fr' 'nl' 'de']\n",
      "\n",
      "lang\n",
      "nl    326822\n",
      "fr    197714\n",
      "de      1531\n",
      "Name: count, dtype: int64\n"
     ]
    }
   ],
   "source": [
    "unieke_waarden_landen = dataset['lang'].unique()\n",
    "print (unieke_waarden_landen)\n",
    "print (\"\")\n",
    "# Tel het aantal voorkomens van elk land in de kolom 'lang'\n",
    "aantal_voorkomens_per_land = dataset['lang'].value_counts()\n",
    "print (aantal_voorkomens_per_land)"
   ]
  },
  {
   "cell_type": "markdown",
   "metadata": {},
   "source": [
    "Oprichtdatum van bedrijf (start_year)"
   ]
  },
  {
   "cell_type": "code",
   "execution_count": 39,
   "metadata": {},
   "outputs": [
    {
     "name": "stdout",
     "output_type": "stream",
     "text": [
      "start_year\n",
      "1880    1\n",
      "1876    1\n",
      "1853    1\n",
      "1878    1\n",
      "1882    1\n",
      "Name: count, dtype: int64\n"
     ]
    }
   ],
   "source": [
    "start_year = dataset['start_year'].value_counts()\n",
    "topfive_start_year = start_year.tail(5)\n",
    "# print (start_year)\n",
    "print (topfive_start_year)"
   ]
  },
  {
   "cell_type": "markdown",
   "metadata": {},
   "source": [
    "bedrijf actief of niet? (status)\n",
    "3197 velden zijn niet gevuld. (na), zijn dat bedrijven die failiet zijn ofzoiets dergelijks?"
   ]
  },
  {
   "cell_type": "code",
   "execution_count": 17,
   "metadata": {},
   "outputs": [
    {
     "name": "stdout",
     "output_type": "stream",
     "text": [
      "status\n",
      "active      479243\n",
      "inactive     43100\n",
      "na            3197\n",
      "danger         527\n",
      "Name: count, dtype: int64\n"
     ]
    }
   ],
   "source": [
    "bedrijf_actief = dataset['status'].value_counts()\n",
    "print (bedrijf_actief)"
   ]
  },
  {
   "cell_type": "markdown",
   "metadata": {},
   "source": [
    "Provincie waarin het bedrijf gevestigd is"
   ]
  },
  {
   "cell_type": "code",
   "execution_count": 19,
   "metadata": {},
   "outputs": [
    {
     "name": "stdout",
     "output_type": "stream",
     "text": [
      "addr_province\n",
      "Antwerp            97501\n",
      "Brussels           78771\n",
      "East Flanders      66768\n",
      "West Flanders      59235\n",
      "Flemish Brabant    51101\n",
      "Limburg            39486\n",
      "Hainaut            38264\n",
      "Liege              36874\n",
      "Walloon Brabant    26357\n",
      "Namur              16790\n",
      "Luxembourg          7645\n",
      "null                7250\n",
      "Special               25\n",
      "Name: count, dtype: int64\n"
     ]
    }
   ],
   "source": [
    "provincies = dataset['addr_province'].value_counts()\n",
    "print (provincies)"
   ]
  },
  {
   "cell_type": "code",
   "execution_count": 31,
   "metadata": {},
   "outputs": [
    {
     "name": "stdout",
     "output_type": "stream",
     "text": [
      "company_type\n",
      "15     382774\n",
      "14      89196\n",
      "610     25651\n",
      "8       10394\n",
      "17       8066\n",
      "13       2178\n",
      "12       1366\n",
      "215      1337\n",
      "706       881\n",
      "608       625\n",
      "11        625\n",
      "30        576\n",
      "6         441\n",
      "125       373\n",
      "418       234\n",
      "60        202\n",
      "612       135\n",
      "515        96\n",
      "65         95\n",
      "26         88\n",
      "Name: count, dtype: int64\n"
     ]
    }
   ],
   "source": [
    "company_type = dataset['company_type'].value_counts()\n",
    "print (company_type.head(20))"
   ]
  }
 ],
 "metadata": {
  "kernelspec": {
   "display_name": "Python 3",
   "language": "python",
   "name": "python3"
  },
  "language_info": {
   "codemirror_mode": {
    "name": "ipython",
    "version": 3
   },
   "file_extension": ".py",
   "mimetype": "text/x-python",
   "name": "python",
   "nbconvert_exporter": "python",
   "pygments_lexer": "ipython3",
   "version": "3.12.0"
  }
 },
 "nbformat": 4,
 "nbformat_minor": 2
}
