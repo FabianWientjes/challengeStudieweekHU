{
 "cells": [
  {
   "cell_type": "code",
   "execution_count": 2,
   "metadata": {},
   "outputs": [],
   "source": [
    "import pandas as pd"
   ]
  },
  {
   "cell_type": "code",
   "execution_count": 3,
   "metadata": {},
   "outputs": [
    {
     "name": "stdout",
     "output_type": "stream",
     "text": [
      "     0       1           2             3            4              5     6   \\\n",
      "0  uuid  status  start_year  addr_country  addr_region  addr_province  lang   \n",
      "\n",
      "             7      8      9      10     11       12            13  \\\n",
      "0  company_type  nace1  nace2  nace3  nace4  capital  capital_curr   \n",
      "\n",
      "                   14             15                   16            17  \n",
      "0  gen_assembly_month  end_fisc_year  covid_compensations  covid_primes  \n"
     ]
    }
   ],
   "source": [
    "dataset = pd.read_json('../data/raw/company_info.jsonl', lines=True)\n",
    "print (dataset.head(1))"
   ]
  },
  {
   "cell_type": "code",
   "execution_count": 4,
   "metadata": {},
   "outputs": [
    {
     "name": "stdout",
     "output_type": "stream",
     "text": [
      "DataFrame met nieuwe kolomnamen:\n",
      "0                                  uuid  status start_year addr_country  \\\n",
      "0  236b14ea-7b38-4c25-b46d-50257f449012  active       2011           be   \n",
      "1  eb040b52-7f2b-462e-813b-becedb93964c  active       2011           be   \n",
      "2  b266db0d-e86c-4664-af8a-99f56dfa3506  active       2011           be   \n",
      "3  9ceb2787-7cf3-41d6-b073-c85a5571210d  active       2001           be   \n",
      "4  d580d6fc-1b0a-475d-841d-8170282bfb24  active       2003           be   \n",
      "\n",
      "0 addr_region    addr_province lang company_type  nace1  nace2  nace3  nace4  \\\n",
      "0    Brussels         Brussels   fr           15  56102  56102   None   None   \n",
      "1    Wallonie  Walloon Brabant   fr           15  86220   None   None   None   \n",
      "2    Flanders  Flemish Brabant   fr           15  62090   None   None   None   \n",
      "3    Brussels         Brussels   nl           14  70220  85532  70220  74142   \n",
      "4    Flanders    West Flanders   nl           15  47591  47410  47591  52487   \n",
      "\n",
      "0 capital capital_curr gen_assembly_month end_fisc_year covid_compensations  \\\n",
      "0   18600          EUR                  6         12-31                   0   \n",
      "1   18600          EUR                  6         12-31                   0   \n",
      "2   18600          EUR                  6         12-31                   0   \n",
      "3   62000          EUR                  5         12-31                   0   \n",
      "4   18600          EUR                  6         12-31                   0   \n",
      "\n",
      "0 covid_primes  \n",
      "0            0  \n",
      "1            0  \n",
      "2            0  \n",
      "3            0  \n",
      "4         8800  \n"
     ]
    }
   ],
   "source": [
    "# Stel de eerste rij in als kolomnamen\n",
    "dataset.columns = dataset.iloc[0]\n",
    "\n",
    "# Verwijder de eerste rij (die nu als kolomnamen is ingesteld)\n",
    "dataset = dataset[1:]\n",
    "\n",
    "# Herstel de index van de DataFrame\n",
    "dataset = dataset.reset_index(drop=True)\n",
    "\n",
    "# Bekijk de eerste paar rijen van de DataFrame na bewerking\n",
    "print(\"DataFrame met nieuwe kolomnamen:\")\n",
    "print(dataset.head(5))"
   ]
  },
  {
   "cell_type": "code",
   "execution_count": 5,
   "metadata": {},
   "outputs": [
    {
     "name": "stdout",
     "output_type": "stream",
     "text": [
      "totaal aantal rijen:  9469206\n",
      "aantal kolommen:  18\n",
      "de verschillende kolommen:  Index(['uuid', 'status', 'start_year', 'addr_country', 'addr_region',\n",
      "       'addr_province', 'lang', 'company_type', 'nace1', 'nace2', 'nace3',\n",
      "       'nace4', 'capital', 'capital_curr', 'gen_assembly_month',\n",
      "       'end_fisc_year', 'covid_compensations', 'covid_primes'],\n",
      "      dtype='object', name=0)\n"
     ]
    }
   ],
   "source": [
    "total_size = dataset.size\n",
    "amount_of_columns = dataset.shape[1]\n",
    "\n",
    "print (\"totaal aantal rijen: \", total_size)\n",
    "print (\"aantal kolommen: \", amount_of_columns)\n",
    "print (\"de verschillende kolommen: \", dataset.columns)\n"
   ]
  },
  {
   "cell_type": "code",
   "execution_count": 12,
   "metadata": {},
   "outputs": [
    {
     "name": "stdout",
     "output_type": "stream",
     "text": [
      "0                                      uuid    status start_year addr_country  \\\n",
      "3397   19db5101-274a-4d72-b9c9-05dfdc69e627    active       2006           be   \n",
      "8873   66b0adaf-a3d6-41d6-9016-533f6ff3277e    active       2006           be   \n",
      "9470   4a6e88e6-fd5f-4ba9-8479-f9e000f99215    active       2007           be   \n",
      "21877  7a1b09a6-4277-484f-90ed-39d7c94fd147    active       1990           be   \n",
      "24169  41454229-0958-4b1e-92f8-c7d03e812184    active       1972           be   \n",
      "30834  093e5f4e-4077-47c0-9401-3d0aad6b7200    active       2002           be   \n",
      "38473  8267282e-c0aa-44bf-89f6-ceb1dd8155bc  inactive       1997           be   \n",
      "53294  eb0d0dc4-4716-4a28-ad30-9bf385a2ecae    active       1997           be   \n",
      "66386  998785d6-0612-4b63-ab0a-41d643d95f60  inactive       1994           be   \n",
      "85032  a0a7aa0c-0e0d-41df-b57f-8b630bc6d5f4    active       2018           be   \n",
      "\n",
      "0     addr_region    addr_province lang company_type  nace1  nace2  nace3  \\\n",
      "3397     Flanders  Flemish Brabant   nl           15  69102   None   None   \n",
      "8873     Flanders          Antwerp   nl           15  46160  46412  51160   \n",
      "9470     Flanders    West Flanders   nl           15  43999  47650  45250   \n",
      "21877    Flanders          Antwerp   nl          610  82190  70220  74851   \n",
      "24169    Flanders  Flemish Brabant   nl           14  46431  46731  47540   \n",
      "30834    Flanders          Antwerp   nl          610  43222  43221  45331   \n",
      "38473    Flanders    East Flanders   nl           15  62010  72220  71121   \n",
      "53294    Wallonie            Namur   fr           15  59113  92113   None   \n",
      "66386    Wallonie            Liege   fr           15  93299  66220   None   \n",
      "85032    Wallonie       Luxembourg   fr           15  56101  55100  56210   \n",
      "\n",
      "0      nace4  capital capital_curr gen_assembly_month end_fisc_year  \\\n",
      "3397    None    18600          EUR                  6         12-31   \n",
      "8873   51410    18600          EUR                  6         12-31   \n",
      "9470   52489    25000          EUR                  5         12-31   \n",
      "21877  68203  1500000          BEF                  6         12-31   \n",
      "24169  46736    62000          EUR                  5         12-31   \n",
      "30834  45332    18600          EUR                  5         12-31   \n",
      "38473   None   111208          EUR                  9         03-31   \n",
      "53294   None   750000          BEF                  5         12-31   \n",
      "66386   None    18592          EUR                  4         12-31   \n",
      "85032  56101    18600          EUR                  6         12-31   \n",
      "\n",
      "0     covid_compensations covid_primes  \n",
      "3397                    0            0  \n",
      "8873                    0         8000  \n",
      "9470                    0            0  \n",
      "21877                   0            0  \n",
      "24169                   0            0  \n",
      "30834                   0            0  \n",
      "38473                   0            0  \n",
      "53294                   0            0  \n",
      "66386                   0            0  \n",
      "85032                   0            0  \n"
     ]
    }
   ],
   "source": [
    "#outliers\n",
    "\n",
    "outliers = [3397, 8873, 9470, 21877, 24169, 30834, 38473, 53294, 66386, \n",
    "                    85032, 88419, 113209, 178008, 182375, 199487, 214069, 217598]\n",
    "\n",
    "# Selecteer de rijen met deze indexes\n",
    "outliers_data = dataset.loc[outliers]\n",
    "\n",
    "# Print de geselecteerde rijen\n",
    "print(outliers_data.head(10))"
   ]
  },
  {
   "cell_type": "markdown",
   "metadata": {},
   "source": [
    "mediaan capital"
   ]
  },
  {
   "cell_type": "code",
   "execution_count": 6,
   "metadata": {},
   "outputs": [
    {
     "name": "stdout",
     "output_type": "stream",
     "text": [
      "Mediaan van de kolom 'capital': 18600.0\n",
      "Gemiddelde van de kolom 'capital': 23904102.685151834\n",
      "Interkwartielafstand (IQR) van de kolom 'capital': 63900.0\n"
     ]
    }
   ],
   "source": [
    "median_capital = dataset['capital'].median()\n",
    "avarage_capital = dataset['capital'].mean()\n",
    "\n",
    "# Bereken het eerste kwartiel (Q1) en het derde kwartiel (Q3)\n",
    "Q1 = dataset['capital'].quantile(0.25)\n",
    "Q3 = dataset['capital'].quantile(0.75)\n",
    "IQR = Q3 - Q1\n",
    "\n",
    "# Print de mediaan\n",
    "print(\"Mediaan van de kolom 'capital':\", median_capital)\n",
    "print(\"Gemiddelde van de kolom 'capital':\", avarage_capital)\n",
    "print(\"Interkwartielafstand (IQR) van de kolom 'capital':\", IQR)"
   ]
  },
  {
   "cell_type": "markdown",
   "metadata": {},
   "source": [
    "Aantal lege velden"
   ]
  },
  {
   "cell_type": "code",
   "execution_count": null,
   "metadata": {},
   "outputs": [],
   "source": [
    "empyt_values = dataset.isnull().sum()\n",
    "print (\"Aantal lege velden\", empyt_values)"
   ]
  },
  {
   "cell_type": "markdown",
   "metadata": {},
   "source": [
    "Land"
   ]
  },
  {
   "cell_type": "code",
   "execution_count": null,
   "metadata": {},
   "outputs": [],
   "source": [
    "unieke_waarden_landen = dataset['lang'].unique()\n",
    "print (unieke_waarden_landen)\n",
    "print (\"\")\n",
    "# Tel het aantal voorkomens van elk land in de kolom 'lang'\n",
    "aantal_voorkomens_per_land = dataset['lang'].value_counts()\n",
    "print (aantal_voorkomens_per_land)"
   ]
  },
  {
   "cell_type": "markdown",
   "metadata": {},
   "source": [
    "Oprichtdatum van bedrijf (start_year)"
   ]
  },
  {
   "cell_type": "code",
   "execution_count": null,
   "metadata": {},
   "outputs": [],
   "source": [
    "start_year = dataset['start_year'].value_counts()\n",
    "topfive_start_year = start_year.tail(5)\n",
    "# print (start_year)\n",
    "print (topfive_start_year)"
   ]
  },
  {
   "cell_type": "markdown",
   "metadata": {},
   "source": [
    "bedrijf actief of niet? (status)\n",
    "3197 velden zijn niet gevuld. (na), zijn dat bedrijven die failiet zijn ofzoiets dergelijks?"
   ]
  },
  {
   "cell_type": "code",
   "execution_count": null,
   "metadata": {},
   "outputs": [],
   "source": [
    "bedrijf_actief = dataset['status'].value_counts()\n",
    "print (bedrijf_actief)"
   ]
  },
  {
   "cell_type": "markdown",
   "metadata": {},
   "source": [
    "Provincie waarin het bedrijf gevestigd is"
   ]
  },
  {
   "cell_type": "code",
   "execution_count": null,
   "metadata": {},
   "outputs": [],
   "source": [
    "provincies = dataset['addr_province'].value_counts()\n",
    "print (provincies)"
   ]
  },
  {
   "cell_type": "code",
   "execution_count": null,
   "metadata": {},
   "outputs": [],
   "source": [
    "company_type = dataset['company_type'].value_counts()\n",
    "print (company_type.head(20))"
   ]
  },
  {
   "cell_type": "code",
   "execution_count": 9,
   "metadata": {},
   "outputs": [
    {
     "name": "stdout",
     "output_type": "stream",
     "text": [
      "3397       18600\n",
      "8873       18600\n",
      "9470       25000\n",
      "21877    1500000\n",
      "24169      62000\n",
      "30834      18600\n",
      "38473     111208\n",
      "53294     750000\n",
      "66386      18592\n",
      "Name: capital, dtype: object\n"
     ]
    }
   ],
   "source": [
    "# Indexen die je wilt filteren\n",
    "selected_indices = [3397, 8873, 9470, 21877, 24169, 30834, 38473, 53294, 66386]\n",
    "# selected_indices = [85032, 88419, 113209, 178008, 182375, 199487, 214069, 217598]\n",
    "\n",
    "# Filter de DataFrame op basis van de geselecteerde indexen\n",
    "filtered_data = dataset.loc[selected_indices]\n",
    "\n",
    "# Print de gefilterde DataFrame\n",
    "print(filtered_data['capital'])"
   ]
  },
  {
   "cell_type": "code",
   "execution_count": 10,
   "metadata": {},
   "outputs": [
    {
     "data": {
      "image/png": "[encoded data removed]",
      "text/plain": [
       "<Figure size 1200x800 with 1 Axes>"
      ]
     },
     "metadata": {},
     "output_type": "display_data"
    }
   ],
   "source": [
    "import pandas as pd\n",
    "import matplotlib.pyplot as plt\n",
    "\n",
    "# Bereken de mediaan van de 'capital' kolom\n",
    "median_capital = dataset['capital'].median()\n",
    "\n",
    "# Indexen die je wilt filteren\n",
    "selected_indices = [3397, 8873, 9470, 21877, 24169, 30834, 38473, 53294, 66386, \n",
    "                    85032, 88419, 113209, 178008, 182375, 199487, 214069, 217598]\n",
    "\n",
    "# Filter de DataFrame op basis van de geselecteerde indexen\n",
    "filtered_data = dataset.loc[selected_indices]\n",
    "\n",
    "# Visualiseer de 'capital' kolom\n",
    "plt.figure(figsize=(12, 8))\n",
    "bars = plt.bar(filtered_data.index.astype(str), filtered_data['capital'], color='skyblue')\n",
    "\n",
    "# Voeg een lijn voor de IQR toe\n",
    "plt.axhline(y=IQR, color='r', linestyle='--', label=f'IQR: {IQR:.2f}')\n",
    "\n",
    "# Labels en titel\n",
    "plt.xlabel('Index')\n",
    "plt.ylabel('Capital')\n",
    "plt.title('Capital Values for Selected Indices')\n",
    "plt.xticks(rotation=90)  # Draai de x-labels voor betere leesbaarheid\n",
    "plt.legend()  # Voeg een legenda toe\n",
    "plt.tight_layout()  # Zorg ervoor dat alles netjes in de figuur past\n",
    "\n",
    "# Toon de plot\n",
    "plt.show()"
   ]
  }
 ],
 "metadata": {
  "kernelspec": {
   "display_name": "Python 3",
   "language": "python",
   "name": "python3"
  },
  "language_info": {
   "codemirror_mode": {
    "name": "ipython",
    "version": 3
   },
   "file_extension": ".py",
   "mimetype": "text/x-python",
   "name": "python",
   "nbconvert_exporter": "python",
   "pygments_lexer": "ipython3",
   "version": "3.12.0"
  }
 },
 "nbformat": 4,
 "nbformat_minor": 2
}
